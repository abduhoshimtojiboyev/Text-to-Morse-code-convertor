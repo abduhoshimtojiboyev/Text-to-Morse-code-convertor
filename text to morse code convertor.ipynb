{
 "cells": [
  {
   "cell_type": "code",
   "execution_count": 33,
   "id": "cc5beee0",
   "metadata": {},
   "outputs": [],
   "source": [
    "alps = \"a b c d e f g h i j k l m n o p q r s t u v w x y z 1 2 3 4 5 6 7 8 9 0 \".split()\n",
    "morses = '.-     -...     -.-.     -..     .     ..-.     --.     ....     ..     .---     -.-     .-..     --     -.     ---     .--.     --.-     .-.     ...     -     ..-     ...-     .--     -..-     -.--     --..     .----     ..---     ...--     ....-     .....     -....     --...     ---..     ----.     -----'.split()\n",
    "morse_dict = {alp: morse for alp, morse in zip(alps,morses)}\n",
    "# morse_space = '.......' # my own"
   ]
  },
  {
   "cell_type": "code",
   "execution_count": 35,
   "id": "029b94cc",
   "metadata": {},
   "outputs": [
    {
     "name": "stdout",
     "output_type": "stream",
     "text": [
      "Please enter your text: @\n"
     ]
    },
    {
     "ename": "KeyError",
     "evalue": "'@'",
     "output_type": "error",
     "traceback": [
      "\u001b[1;31m---------------------------------------------------------------------------\u001b[0m",
      "\u001b[1;31mKeyError\u001b[0m                                  Traceback (most recent call last)",
      "\u001b[1;32m<ipython-input-35-6e62421e828f>\u001b[0m in \u001b[0;36m<module>\u001b[1;34m\u001b[0m\n\u001b[0;32m      8\u001b[0m     \u001b[0mword_letter\u001b[0m \u001b[1;33m=\u001b[0m \u001b[0mlist\u001b[0m\u001b[1;33m(\u001b[0m\u001b[0mword\u001b[0m\u001b[1;33m)\u001b[0m\u001b[1;33m\u001b[0m\u001b[1;33m\u001b[0m\u001b[0m\n\u001b[0;32m      9\u001b[0m     \u001b[1;32mfor\u001b[0m \u001b[0mletter\u001b[0m \u001b[1;32min\u001b[0m \u001b[0mword_letter\u001b[0m\u001b[1;33m:\u001b[0m\u001b[1;33m\u001b[0m\u001b[1;33m\u001b[0m\u001b[0m\n\u001b[1;32m---> 10\u001b[1;33m         \u001b[0mmorse_code\u001b[0m\u001b[1;33m=\u001b[0m \u001b[0mmorse_code\u001b[0m\u001b[1;33m+\u001b[0m\u001b[0mmorse_dict\u001b[0m\u001b[1;33m[\u001b[0m\u001b[0mletter\u001b[0m\u001b[1;33m]\u001b[0m\u001b[1;33m+\u001b[0m\u001b[1;34m\" \"\u001b[0m\u001b[1;33m\u001b[0m\u001b[1;33m\u001b[0m\u001b[0m\n\u001b[0m\u001b[0;32m     11\u001b[0m \u001b[1;33m\u001b[0m\u001b[0m\n\u001b[0;32m     12\u001b[0m \u001b[1;33m\u001b[0m\u001b[0m\n",
      "\u001b[1;31mKeyError\u001b[0m: '@'"
     ]
    }
   ],
   "source": [
    "#### text to morse or morse to text\n",
    "text = input('Please enter your text: ').lower()\n",
    "text_arr = text.split() # it splits array by space. space length doesn't matter\n",
    "text_arr\n",
    "space=\" \"\n",
    "morse_code = ''\n",
    "for word in text_arr:\n",
    "    word_letter = list(word)\n",
    "    for letter in word_letter:\n",
    "        morse_code= morse_code+morse_dict[letter]+\" \"\n",
    "    \n",
    "\n",
    "morse_code\n",
    "        "
   ]
  },
  {
   "cell_type": "code",
   "execution_count": 16,
   "id": "e817e3a3",
   "metadata": {
    "collapsed": true
   },
   "outputs": [
    {
     "data": {
      "text/plain": [
       "{'a': '.-',\n",
       " 'b': '-...',\n",
       " 'c': '-.-.',\n",
       " 'd': '-..',\n",
       " 'e': '.',\n",
       " 'f': '..-.',\n",
       " 'g': '--.',\n",
       " 'h': '....',\n",
       " 'i': '..',\n",
       " 'j': '.---',\n",
       " 'k': '-.-',\n",
       " 'l': '.-..',\n",
       " 'm': '--',\n",
       " 'n': '-.',\n",
       " 'o': '---',\n",
       " 'p': '.--.',\n",
       " 'q': '--.-',\n",
       " 'r': '.-.',\n",
       " 's': '...',\n",
       " 't': '-',\n",
       " 'u': '..-',\n",
       " 'v': '...-',\n",
       " 'w': '.--',\n",
       " 'x': '-..-',\n",
       " 'y': '-.--',\n",
       " 'z': '--..',\n",
       " '1': '.----',\n",
       " '2': '..---',\n",
       " '3': '...--',\n",
       " '4': '....-',\n",
       " '5': '.....',\n",
       " '6': '-....',\n",
       " '7': '--...',\n",
       " '8': '---..',\n",
       " '9': '----.',\n",
       " '0': '-----'}"
      ]
     },
     "execution_count": 16,
     "metadata": {},
     "output_type": "execute_result"
    }
   ],
   "source": []
  }
 ],
 "metadata": {
  "kernelspec": {
   "display_name": "Python 3",
   "language": "python",
   "name": "python3"
  },
  "language_info": {
   "codemirror_mode": {
    "name": "ipython",
    "version": 3
   },
   "file_extension": ".py",
   "mimetype": "text/x-python",
   "name": "python",
   "nbconvert_exporter": "python",
   "pygments_lexer": "ipython3",
   "version": "3.8.8"
  }
 },
 "nbformat": 4,
 "nbformat_minor": 5
}
